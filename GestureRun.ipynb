{
 "cells": [
  {
   "cell_type": "code",
   "execution_count": 4,
   "id": "63576408-bc2d-420b-9243-42622c6281d0",
   "metadata": {
    "scrolled": true
   },
   "outputs": [
    {
     "name": "stdout",
     "output_type": "stream",
     "text": [
      "Collecting pynput\n",
      "  Downloading pynput-1.8.1-py2.py3-none-any.whl.metadata (32 kB)\n",
      "Requirement already satisfied: six in /opt/anaconda3/lib/python3.12/site-packages (from pynput) (1.16.0)\n",
      "Collecting pyobjc-framework-ApplicationServices>=8.0 (from pynput)\n",
      "  Downloading pyobjc_framework_ApplicationServices-11.0-cp312-cp312-macosx_10_13_universal2.whl.metadata (2.5 kB)\n",
      "Collecting pyobjc-framework-Quartz>=8.0 (from pynput)\n",
      "  Downloading pyobjc_framework_Quartz-11.0-cp312-cp312-macosx_10_13_universal2.whl.metadata (3.3 kB)\n",
      "Collecting pyobjc-core>=11.0 (from pyobjc-framework-ApplicationServices>=8.0->pynput)\n",
      "  Downloading pyobjc_core-11.0-cp312-cp312-macosx_10_13_universal2.whl.metadata (2.5 kB)\n",
      "Collecting pyobjc-framework-Cocoa>=11.0 (from pyobjc-framework-ApplicationServices>=8.0->pynput)\n",
      "  Downloading pyobjc_framework_Cocoa-11.0-cp312-cp312-macosx_10_13_universal2.whl.metadata (2.3 kB)\n",
      "Collecting pyobjc-framework-CoreText>=11.0 (from pyobjc-framework-ApplicationServices>=8.0->pynput)\n",
      "  Downloading pyobjc_framework_CoreText-11.0-cp312-cp312-macosx_10_13_universal2.whl.metadata (2.5 kB)\n",
      "Downloading pynput-1.8.1-py2.py3-none-any.whl (91 kB)\n",
      "Downloading pyobjc_framework_ApplicationServices-11.0-cp312-cp312-macosx_10_13_universal2.whl (30 kB)\n",
      "Downloading pyobjc_framework_Quartz-11.0-cp312-cp312-macosx_10_13_universal2.whl (212 kB)\n",
      "Downloading pyobjc_core-11.0-cp312-cp312-macosx_10_13_universal2.whl (739 kB)\n",
      "\u001b[2K   \u001b[90m━━━━━━━━━━━━━━━━━━━━━━━━━━━━━━━━━━━━━━━━\u001b[0m \u001b[32m739.8/739.8 kB\u001b[0m \u001b[31m24.1 MB/s\u001b[0m eta \u001b[36m0:00:00\u001b[0m\n",
      "\u001b[?25hDownloading pyobjc_framework_Cocoa-11.0-cp312-cp312-macosx_10_13_universal2.whl (385 kB)\n",
      "Downloading pyobjc_framework_CoreText-11.0-cp312-cp312-macosx_10_13_universal2.whl (30 kB)\n",
      "Installing collected packages: pyobjc-core, pyobjc-framework-Cocoa, pyobjc-framework-Quartz, pyobjc-framework-CoreText, pyobjc-framework-ApplicationServices, pynput\n",
      "  Attempting uninstall: pyobjc-core\n",
      "    Found existing installation: pyobjc-core 10.1\n",
      "    Uninstalling pyobjc-core-10.1:\n",
      "      Successfully uninstalled pyobjc-core-10.1\n",
      "  Attempting uninstall: pyobjc-framework-Cocoa\n",
      "    Found existing installation: pyobjc-framework-Cocoa 10.1\n",
      "    Uninstalling pyobjc-framework-Cocoa-10.1:\n",
      "      Successfully uninstalled pyobjc-framework-Cocoa-10.1\n",
      "Successfully installed pynput-1.8.1 pyobjc-core-11.0 pyobjc-framework-ApplicationServices-11.0 pyobjc-framework-Cocoa-11.0 pyobjc-framework-CoreText-11.0 pyobjc-framework-Quartz-11.0\n"
     ]
    }
   ],
   "source": [
    "!pip install pynput"
   ]
  },
  {
   "cell_type": "code",
   "execution_count": 1,
   "id": "c83dca7d-71bd-4367-ac35-07e93cc760da",
   "metadata": {},
   "outputs": [],
   "source": [
    "import mediapipe as mp\n",
    "import cv2\n",
    "from pynput.keyboard import Key, Controller"
   ]
  },
  {
   "cell_type": "code",
   "execution_count": 2,
   "id": "717fa398-f828-4d10-8f12-02e501bd6434",
   "metadata": {},
   "outputs": [],
   "source": [
    "mp_holistic = mp.solutions.holistic\n",
    "mp_drawing = mp.solutions.drawing_utils\n",
    "mp_pose = mp.solutions.pose\n",
    "keyboard = Controller()"
   ]
  },
  {
   "cell_type": "code",
   "execution_count": 3,
   "id": "4fb31a89-f88a-4a46-8209-8675c4615d71",
   "metadata": {},
   "outputs": [
    {
     "name": "stderr",
     "output_type": "stream",
     "text": [
      "WARNING: All log messages before absl::InitializeLog() is called are written to STDERR\n",
      "I0000 00:00:1748661148.934230   63884 gl_context.cc:369] GL version: 2.1 (2.1 Metal - 89.4), renderer: Apple M1\n",
      "INFO: Created TensorFlow Lite XNNPACK delegate for CPU.\n",
      "W0000 00:00:1748661149.036282   64302 inference_feedback_manager.cc:114] Feedback manager requires a model with a single signature inference. Disabling support for feedback tensors.\n",
      "W0000 00:00:1748661149.059325   64297 inference_feedback_manager.cc:114] Feedback manager requires a model with a single signature inference. Disabling support for feedback tensors.\n",
      "W0000 00:00:1748661149.062308   64300 inference_feedback_manager.cc:114] Feedback manager requires a model with a single signature inference. Disabling support for feedback tensors.\n",
      "W0000 00:00:1748661149.062363   64295 inference_feedback_manager.cc:114] Feedback manager requires a model with a single signature inference. Disabling support for feedback tensors.\n",
      "W0000 00:00:1748661149.062531   64302 inference_feedback_manager.cc:114] Feedback manager requires a model with a single signature inference. Disabling support for feedback tensors.\n",
      "W0000 00:00:1748661149.071711   64300 inference_feedback_manager.cc:114] Feedback manager requires a model with a single signature inference. Disabling support for feedback tensors.\n",
      "W0000 00:00:1748661149.074956   64302 inference_feedback_manager.cc:114] Feedback manager requires a model with a single signature inference. Disabling support for feedback tensors.\n",
      "W0000 00:00:1748661149.075845   64295 inference_feedback_manager.cc:114] Feedback manager requires a model with a single signature inference. Disabling support for feedback tensors.\n",
      "W0000 00:00:1748661149.094370   64297 landmark_projection_calculator.cc:186] Using NORM_RECT without IMAGE_DIMENSIONS is only supported for the square ROI. Provide IMAGE_DIMENSIONS or use PROJECTION_MATRIX.\n"
     ]
    }
   ],
   "source": [
    "cap = cv2.VideoCapture(0)\n",
    "cap.set(3, 720) \n",
    "cap.set(4, 540)\n",
    "pose = \"\"\n",
    "status = 0\n",
    "\n",
    "with mp_holistic.Holistic(min_detection_confidence=0.5,min_tracking_confidence=0.5) as holistic:\n",
    "\n",
    "    while True:\n",
    "        success, frame = cap.read()\n",
    "        frame = cv2.flip(frame,1)\n",
    "        img = cv2.cvtColor(frame, cv2.COLOR_BGR2RGB)\n",
    "\n",
    "        results = holistic.process(img)\n",
    "        img = cv2.cvtColor(img, cv2.COLOR_RGB2BGR)\n",
    "        height, width, _ = img.shape\n",
    "\n",
    "        try:\n",
    "            right_hand = (results.pose_landmarks.landmark[mp_pose.PoseLandmark.LEFT_WRIST].x*width,\n",
    "                         results.pose_landmarks.landmark[mp_pose.PoseLandmark.LEFT_WRIST].y*width)\n",
    "\n",
    "            line_x1 = width//3\n",
    "            line_x2 = 2*(width//3)\n",
    "            line_y1 = height//3\n",
    "            line_y2 = 2*(height//3)\n",
    "\n",
    "            if right_hand[0]>line_x2 and right_hand[1]<line_y1:\n",
    "                pose = \"Start\"\n",
    "                status = 1\n",
    "                keyboard.press(Key.space)\n",
    "                keyboard.release(Key.space)\n",
    "\n",
    "            elif right_hand[0]>line_x2 and right_hand[1]>line_y1 and right_hand[1]<line_y2 and status==1:\n",
    "                pose=\"Right\"\n",
    "                keyboard.press(Key.right)\n",
    "                keyboard.release(Key.right)\n",
    "\n",
    "            elif right_hand[0]<line_x1 and right_hand[1]>line_y1 and right_hand[1]<line_y2 and status==1:\n",
    "                pose=\"Left\"\n",
    "                keyboard.press(Key.left)\n",
    "                keyboard.release(Key.left)\n",
    "\n",
    "            elif right_hand[1]<line_y1 and status==1:\n",
    "                pose=\"Jump\"\n",
    "                keyboard.press(Key.up)\n",
    "                keyboard.release(Key.up)\n",
    "\n",
    "            elif right_hand[1]>line_y2 and status==1:\n",
    "                pose=\"Slide\"\n",
    "                keyboard.press(Key.down)\n",
    "                keyboard.release(Key.down)\n",
    "\n",
    "            elif status == 0:\n",
    "                pose = \"Please start the Game\"\n",
    "\n",
    "            else:\n",
    "                pose = \"Run\"\n",
    "\n",
    "        except:\n",
    "            pass\n",
    "\n",
    "        cv2.putText(img,pose,(10,30), cv2.FONT_HERSHEY_PLAIN, 2,(255,255,0),3)\n",
    "\n",
    "        cv2.line(img,(width//3,0),(width//3,height),(255,255,255),2)\n",
    "        cv2.line(img,(2*(width//3),0),(2*(width//3),height),(255,255,255),2)\n",
    "        cv2.line(img,(0,height//3),(width,height//3),(255,255,255),2)\n",
    "        cv2.line(img,(0,2*(height//3)),(width,2*(height//3)),(255,255,255),2)\n",
    "\n",
    "        mp_drawing.draw_landmarks(img,results.pose_landmarks,mp_holistic.POSE_CONNECTIONS,\n",
    "                                 mp_drawing.DrawingSpec(color=(180,105,255),thickness=5,circle_radius=8),\n",
    "                                 mp_drawing.DrawingSpec(color=(255,255,255),thickness=10,circle_radius=10))\n",
    "        \n",
    "        cv2.imshow('Image', img)\n",
    "        if cv2.waitKey(1) & 0xFF == ord('q'):\n",
    "            break\n",
    "\n",
    "cap.release()\n",
    "cv2.destroyAllWindows()"
   ]
  },
  {
   "cell_type": "code",
   "execution_count": null,
   "id": "d95167b1-10fe-41fa-a690-164a8c139ea5",
   "metadata": {},
   "outputs": [],
   "source": []
  },
  {
   "cell_type": "code",
   "execution_count": null,
   "id": "f8164ad1-6660-4596-96c7-7f496d0ce9bd",
   "metadata": {},
   "outputs": [],
   "source": []
  }
 ],
 "metadata": {
  "kernelspec": {
   "display_name": "Python [conda env:base] *",
   "language": "python",
   "name": "conda-base-py"
  },
  "language_info": {
   "codemirror_mode": {
    "name": "ipython",
    "version": 3
   },
   "file_extension": ".py",
   "mimetype": "text/x-python",
   "name": "python",
   "nbconvert_exporter": "python",
   "pygments_lexer": "ipython3",
   "version": "3.12.7"
  }
 },
 "nbformat": 4,
 "nbformat_minor": 5
}
